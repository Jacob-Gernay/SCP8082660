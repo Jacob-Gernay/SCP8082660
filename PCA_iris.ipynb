{
 "cells": [
  {
   "cell_type": "markdown",
   "id": "0ab19915",
   "metadata": {},
   "source": [
    "## PCA - applied to the IRIS data set"
   ]
  },
  {
   "cell_type": "markdown",
   "id": "eb50611e",
   "metadata": {},
   "source": [
    "### Preparing environment - loading packages and data"
   ]
  },
  {
   "cell_type": "code",
   "execution_count": 1,
   "id": "478d73d3",
   "metadata": {},
   "outputs": [],
   "source": [
    "import numpy as np\n",
    "import pandas as pd\n",
    "import matplotlib.pyplot as plt\n",
    "\n",
    "from sklearn.model_selection import train_test_split\n",
    "from sklearn.preprocessing import StandardScaler\n",
    "from sklearn.decomposition import PCA\n",
    "from sklearn.linear_model import LogisticRegression\n",
    "from sklearn.metrics import confusion_matrix\n",
    "from sklearn import metrics"
   ]
  },
  {
   "cell_type": "code",
   "execution_count": 2,
   "id": "1edbf4fb",
   "metadata": {},
   "outputs": [
    {
     "name": "stdout",
     "output_type": "stream",
     "text": [
      "(150, 4) (150,)\n"
     ]
    }
   ],
   "source": [
    "url = \"https://raw.githubusercontent.com/Jacob-Gernay/SCP8082660/main/data/Iris.csv\"\n",
    "iris = pd.read_csv(url)\n",
    "iris.head()\n",
    "\n",
    "X, y = iris.iloc[:,1:5].values, iris.loc[:,'Species'].values\n",
    "print(X.shape, y.shape)"
   ]
  },
  {
   "cell_type": "markdown",
   "id": "0029447c",
   "metadata": {},
   "source": [
    "### Standardizing the data"
   ]
  },
  {
   "cell_type": "code",
   "execution_count": 3,
   "id": "bcb46441",
   "metadata": {},
   "outputs": [],
   "source": [
    "scaler = StandardScaler()\n",
    "scaler.fit_transform(X);"
   ]
  },
  {
   "cell_type": "markdown",
   "id": "d3bd3664",
   "metadata": {},
   "source": [
    "### Applying PCA"
   ]
  },
  {
   "cell_type": "code",
   "execution_count": 4,
   "id": "4e9f392f",
   "metadata": {},
   "outputs": [],
   "source": [
    "pca = PCA(n_components=4)\n",
    "pca.fit_transform(X);"
   ]
  },
  {
   "cell_type": "markdown",
   "id": "e8915e96",
   "metadata": {},
   "source": [
    "### Analyzing results"
   ]
  },
  {
   "cell_type": "code",
   "execution_count": 5,
   "id": "0290be59",
   "metadata": {},
   "outputs": [
    {
     "name": "stdout",
     "output_type": "stream",
     "text": [
      "Proportion of explained variance:\n",
      "   prop_var  cumulative\n",
      "0  0.924616    0.924616\n",
      "1  0.053016    0.977632\n",
      "2  0.017185    0.994817\n",
      "3  0.005183    1.000000\n"
     ]
    },
    {
     "data": {
      "image/png": "[encoded data removed]",
      "text/plain": [
       "<Figure size 432x288 with 1 Axes>"
      ]
     },
     "metadata": {
      "needs_background": "light"
     },
     "output_type": "display_data"
    }
   ],
   "source": [
    "prop_var = pca.explained_variance_ratio_\n",
    "pca_var_tab = pd.DataFrame(prop_var, columns = ['prop_var'])\n",
    "pca_var_tab['cumulative'] = pca_var_tab['prop_var'].cumsum(axis = 0)\n",
    "print('Proportion of explained variance:')\n",
    "print(pca_var_tab)\n",
    "\n",
    "PC_values = np.arange(pca.n_components_) + 1\n",
    "plt.plot(PC_values, pca.explained_variance_ratio_, 'o-', linewidth=2, color='red')\n",
    "plt.title('Scree Plot')\n",
    "plt.xlabel('Principal Component')\n",
    "plt.ylabel('Variance Explained')\n",
    "plt.show()"
   ]
  },
  {
   "cell_type": "markdown",
   "id": "96cab47a",
   "metadata": {},
   "source": [
    "Scree plot suggest 2 PC's are enough, 2 components explain 97.76% of the variance in the original data."
   ]
  },
  {
   "cell_type": "markdown",
   "id": "7ca74819",
   "metadata": {},
   "source": [
    "## Classification: raw data vs. 2 components"
   ]
  },
  {
   "cell_type": "markdown",
   "id": "551f8c21",
   "metadata": {},
   "source": [
    "### preparing data"
   ]
  },
  {
   "cell_type": "code",
   "execution_count": 6,
   "id": "e0d01723",
   "metadata": {},
   "outputs": [],
   "source": [
    "X_train, X_test, y_train, y_test = train_test_split(X, y, test_size = 0.3, random_state = 0)\n",
    "\n",
    "pca2 = PCA(n_components = 2)\n",
    "X_train_pc = pca2.fit_transform(X_train)\n",
    "X_test_pc = pca2.transform(X_test)"
   ]
  },
  {
   "cell_type": "markdown",
   "id": "6e806125",
   "metadata": {},
   "source": [
    "### classifying"
   ]
  },
  {
   "cell_type": "code",
   "execution_count": 7,
   "id": "b696c91a",
   "metadata": {},
   "outputs": [],
   "source": [
    "classifier = LogisticRegression(multi_class = 'multinomial')\n",
    "classifier_pc = LogisticRegression(multi_class = 'multinomial')\n",
    "\n",
    "classifier.fit(X_train, y_train)\n",
    "classifier_pc.fit(X_train_pc, y_train)\n",
    "\n",
    "y_pred = classifier.predict(X_test)\n",
    "y_pred_pc = classifier_pc.predict(X_test_pc)"
   ]
  },
  {
   "cell_type": "markdown",
   "id": "a8d9f439",
   "metadata": {},
   "source": [
    "### Evaluation of the classification"
   ]
  },
  {
   "cell_type": "code",
   "execution_count": 8,
   "id": "da133f9f",
   "metadata": {},
   "outputs": [
    {
     "name": "stdout",
     "output_type": "stream",
     "text": [
      "[[16  0  0]\n",
      " [ 0 17  1]\n",
      " [ 0  0 11]]\n",
      "accuracy raw data: 97.78\n",
      "[[16  0  0]\n",
      " [ 0 17  1]\n",
      " [ 0  0 11]]\n",
      "accuracy principal components: 97.78\n"
     ]
    }
   ],
   "source": [
    "cm = confusion_matrix(y_test, y_pred)\n",
    "cm_pc = confusion_matrix(y_test, y_pred_pc)\n",
    "\n",
    "acc_raw = round(metrics.accuracy_score(y_test, y_pred)*100,2)\n",
    "acc_pc = round(metrics.accuracy_score(y_test, y_pred_pc)*100,2)\n",
    "\n",
    "print(cm)\n",
    "print(\"accuracy raw data:\", acc_raw)\n",
    "\n",
    "print(cm_pc)\n",
    "print(\"accuracy principal components:\", acc_pc)"
   ]
  },
  {
   "cell_type": "markdown",
   "id": "ebdb1385",
   "metadata": {},
   "source": [
    "the classification on the 2 principal components is as good as the classification based on the original data."
   ]
  }
 ],
 "metadata": {
  "kernelspec": {
   "display_name": "Python 3 (ipykernel)",
   "language": "python",
   "name": "python3"
  },
  "language_info": {
   "codemirror_mode": {
    "name": "ipython",
    "version": 3
   },
   "file_extension": ".py",
   "mimetype": "text/x-python",
   "name": "python",
   "nbconvert_exporter": "python",
   "pygments_lexer": "ipython3",
   "version": "3.9.7"
  }
 },
 "nbformat": 4,
 "nbformat_minor": 5
}
